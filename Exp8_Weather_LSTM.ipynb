{
  "nbformat": 4,
  "nbformat_minor": 0,
  "metadata": {
    "colab": {
      "provenance": []
    },
    "kernelspec": {
      "name": "python3",
      "display_name": "Python 3"
    },
    "language_info": {
      "name": "python"
    }
  },
  "cells": [
    {
      "cell_type": "code",
      "source": [
        "import numpy as np\n",
        "import pandas as pd\n",
        "import matplotlib.pyplot as plt\n",
        "import tensorflow as tf\n",
        "from tensorflow.keras.models import Sequential\n",
        "from tensorflow.keras.layers import LSTM, Dense\n",
        "from sklearn.preprocessing import MinMaxScaler"
      ],
      "metadata": {
        "id": "13Avzd2ez-AL"
      },
      "execution_count": null,
      "outputs": []
    },
    {
      "cell_type": "code",
      "source": [
        "# Create a synthetic temperature dataset (can be replaced with real data)\n",
        "np.random.seed(42)\n",
        "temp_data = np.cumsum(np.random.randn(1000) * 0.5 + 0.1) + 20  # Random walk with trend\n"
      ],
      "metadata": {
        "id": "l5D605mF0BP2"
      },
      "execution_count": null,
      "outputs": []
    },
    {
      "cell_type": "code",
      "source": [
        "# Convert to supervised dataset\n",
        "def create_dataset(data, time_steps=10):\n",
        "    X, y = [], []\n",
        "    for i in range(len(data) - time_steps):\n",
        "        X.append(data[i:i+time_steps])\n",
        "        y.append(data[i+time_steps])\n",
        "    return np.array(X), np.array(y)\n",
        "\n",
        "# Normalize data\n",
        "scaler = MinMaxScaler()\n",
        "temp_data_scaled = scaler.fit_transform(temp_data.reshape(-1, 1))\n",
        "\n",
        "# Create dataset\n",
        "time_steps = 10\n",
        "X, y = create_dataset(temp_data_scaled, time_steps)\n",
        "X = X.reshape((X.shape[0], X.shape[1], 1))  # 3D input for LSTM"
      ],
      "metadata": {
        "id": "_fJZ6qh50C8c"
      },
      "execution_count": null,
      "outputs": []
    },
    {
      "cell_type": "code",
      "source": [
        "split = int(0.8 * len(X))\n",
        "X_train, X_test = X[:split], X[split:]\n",
        "y_train, y_test = y[:split], y[split:]"
      ],
      "metadata": {
        "id": "Q-xOfgUw0HAN"
      },
      "execution_count": null,
      "outputs": []
    },
    {
      "cell_type": "code",
      "source": [
        "model = Sequential([\n",
        "    LSTM(50, activation='relu', return_sequences=True, input_shape=(time_steps, 1)),\n",
        "    LSTM(50, activation='relu'),\n",
        "    Dense(1)\n",
        "])\n",
        "\n",
        "model.compile(optimizer='adam', loss='mse')\n",
        "\n",
        "# Train the model\n",
        "history = model.fit(X_train, y_train, epochs=20, batch_size=16,\n",
        "                    validation_data=(X_test, y_test), shuffle=False)"
      ],
      "metadata": {
        "id": "lWMKShCE0JOR"
      },
      "execution_count": null,
      "outputs": []
    },
    {
      "cell_type": "code",
      "source": [
        "predicted_temp = model.predict(X_test)\n",
        "predicted_temp = scaler.inverse_transform(predicted_temp)\n",
        "y_test_actual = scaler.inverse_transform(y_test.reshape(-1, 1))"
      ],
      "metadata": {
        "id": "Dq-AexuC0LQe"
      },
      "execution_count": null,
      "outputs": []
    },
    {
      "cell_type": "code",
      "source": [
        "plt.figure(figsize=(10, 5))\n",
        "plt.plot(y_test_actual, label='Actual Temperature', color='blue')\n",
        "plt.plot(predicted_temp, label='Predicted Temperature', color='red')\n",
        "plt.xlabel('Time')\n",
        "plt.ylabel('Temperature')\n",
        "plt.legend()\n",
        "plt.title('Actual vs Predicted Temperature')\n",
        "plt.show()"
      ],
      "metadata": {
        "id": "sB7-tnfV0qIH"
      },
      "execution_count": null,
      "outputs": []
    },
    {
      "cell_type": "code",
      "source": [
        "plt.figure(figsize=(8, 5))\n",
        "plt.plot(history.history['loss'], label='Train Loss', color='blue')\n",
        "plt.plot(history.history['val_loss'], label='Validation Loss', color='red')\n",
        "plt.xlabel('Epochs')\n",
        "plt.ylabel('Loss')\n",
        "plt.legend()\n",
        "plt.title('Loss Curve')\n",
        "plt.show()"
      ],
      "metadata": {
        "id": "2g9R4jPR0rwc"
      },
      "execution_count": null,
      "outputs": []
    }
  ]
}