{
  "nbformat": 4,
  "nbformat_minor": 0,
  "metadata": {
    "colab": {
      "provenance": []
    },
    "kernelspec": {
      "name": "python3",
      "display_name": "Python 3"
    },
    "language_info": {
      "name": "python"
    }
  },
  "cells": [
    {
      "cell_type": "code",
      "source": [
        "import pandas as pd\n",
        "import numpy as np\n",
        "from sklearn.model_selection import train_test_split\n",
        "from sklearn.preprocessing import StandardScaler\n",
        "from tensorflow.keras.models import Sequential\n",
        "from tensorflow.keras.layers import Dense\n",
        "import matplotlib.pyplot as plt"
      ],
      "metadata": {
        "id": "w4yF_4BAPw2R"
      },
      "execution_count": null,
      "outputs": []
    },
    {
      "cell_type": "code",
      "source": [
        "#https://www.kaggle.com/datasets/akshaydattatraykhare/car-details-dataset\n",
        "file_path = '/content/CAR DETAILS FROM CAR DEKHO.csv'\n",
        "df = pd.read_csv(file_path)"
      ],
      "metadata": {
        "id": "_-0iSxnnQkjQ"
      },
      "execution_count": null,
      "outputs": []
    },
    {
      "cell_type": "code",
      "source": [
        "print(df.head())"
      ],
      "metadata": {
        "colab": {
          "base_uri": "https://localhost:8080/"
        },
        "id": "-1T_30J4Qyiy",
        "outputId": "59abbbc9-53f5-431e-876c-088fe2cfeb0d"
      },
      "execution_count": null,
      "outputs": [
        {
          "output_type": "stream",
          "name": "stdout",
          "text": [
            "                       name  year  selling_price  km_driven    fuel  \\\n",
            "0             Maruti 800 AC  2007          60000      70000  Petrol   \n",
            "1  Maruti Wagon R LXI Minor  2007         135000      50000  Petrol   \n",
            "2      Hyundai Verna 1.6 SX  2012         600000     100000  Diesel   \n",
            "3    Datsun RediGO T Option  2017         250000      46000  Petrol   \n",
            "4     Honda Amaze VX i-DTEC  2014         450000     141000  Diesel   \n",
            "\n",
            "  seller_type transmission         owner  \n",
            "0  Individual       Manual   First Owner  \n",
            "1  Individual       Manual   First Owner  \n",
            "2  Individual       Manual   First Owner  \n",
            "3  Individual       Manual   First Owner  \n",
            "4  Individual       Manual  Second Owner  \n"
          ]
        }
      ]
    },
    {
      "cell_type": "markdown",
      "source": [
        "# Define the target column and others as features\n",
        "this wil allow us to use the target column for regression"
      ],
      "metadata": {
        "id": "toNFjdGVQ7go"
      }
    },
    {
      "cell_type": "code",
      "source": [
        "target_column = 'selling_price'\n",
        "features = df.drop(columns=[target_column])\n",
        "target = df[target_column]"
      ],
      "metadata": {
        "id": "q17tCOVSQ6YI"
      },
      "execution_count": null,
      "outputs": []
    },
    {
      "cell_type": "code",
      "source": [
        "features = pd.get_dummies(features)"
      ],
      "metadata": {
        "id": "rGDibjKPSuBn"
      },
      "execution_count": null,
      "outputs": []
    },
    {
      "cell_type": "code",
      "source": [
        "X_train, X_test, y_train, y_test = train_test_split(features, target, test_size=0.2, random_state=42)\n"
      ],
      "metadata": {
        "id": "Cw_9B1LAS29P"
      },
      "execution_count": null,
      "outputs": []
    },
    {
      "cell_type": "code",
      "source": [
        "scaler = StandardScaler()\n",
        "X_train = scaler.fit_transform(X_train)\n",
        "X_test = scaler.transform(X_test)"
      ],
      "metadata": {
        "id": "ckwy_2uVTDaI"
      },
      "execution_count": null,
      "outputs": []
    },
    {
      "cell_type": "code",
      "source": [
        "model = Sequential([\n",
        "    Dense(64, activation='relu', input_dim=X_train.shape[1]),\n",
        "    Dense(32, activation='relu'),\n",
        "    Dense(1)\n",
        "])"
      ],
      "metadata": {
        "colab": {
          "base_uri": "https://localhost:8080/"
        },
        "id": "5F_Gew4UT0Xe",
        "outputId": "162e3f32-820a-4c01-cc15-90849447770a"
      },
      "execution_count": null,
      "outputs": [
        {
          "output_type": "stream",
          "name": "stderr",
          "text": [
            "/usr/local/lib/python3.11/dist-packages/keras/src/layers/core/dense.py:87: UserWarning: Do not pass an `input_shape`/`input_dim` argument to a layer. When using Sequential models, prefer using an `Input(shape)` object as the first layer in the model instead.\n",
            "  super().__init__(activity_regularizer=activity_regularizer, **kwargs)\n"
          ]
        }
      ]
    },
    {
      "cell_type": "code",
      "source": [
        "model.compile(optimizer='adam', loss='mean_squared_error', metrics=['mae'])\n"
      ],
      "metadata": {
        "id": "_jsDjZqQT51X"
      },
      "execution_count": null,
      "outputs": []
    },
    {
      "cell_type": "code",
      "source": [
        "history = model.fit(X_train, y_train, validation_split=0.2, epochs=50, batch_size=32, verbose=1)\n"
      ],
      "metadata": {
        "colab": {
          "base_uri": "https://localhost:8080/"
        },
        "id": "fz39mDnRUGiO",
        "outputId": "49cac63e-b55d-4805-d6a6-8cba7470ecef"
      },
      "execution_count": null,
      "outputs": [
        {
          "output_type": "stream",
          "name": "stdout",
          "text": [
            "Epoch 1/50\n",
            "\u001b[1m87/87\u001b[0m \u001b[32m━━━━━━━━━━━━━━━━━━━━\u001b[0m\u001b[37m\u001b[0m \u001b[1m2s\u001b[0m 9ms/step - loss: 565207433216.0000 - mae: 496978.0312 - val_loss: 668951117824.0000 - val_mae: 513254.0000\n",
            "Epoch 2/50\n",
            "\u001b[1m87/87\u001b[0m \u001b[32m━━━━━━━━━━━━━━━━━━━━\u001b[0m\u001b[37m\u001b[0m \u001b[1m1s\u001b[0m 6ms/step - loss: 599800217600.0000 - mae: 514504.6562 - val_loss: 668778364928.0000 - val_mae: 513121.8750\n",
            "Epoch 3/50\n",
            "\u001b[1m87/87\u001b[0m \u001b[32m━━━━━━━━━━━━━━━━━━━━\u001b[0m\u001b[37m\u001b[0m \u001b[1m1s\u001b[0m 8ms/step - loss: 585928671232.0000 - mae: 512644.6250 - val_loss: 668173795328.0000 - val_mae: 512678.2188\n",
            "Epoch 4/50\n",
            "\u001b[1m87/87\u001b[0m \u001b[32m━━━━━━━━━━━━━━━━━━━━\u001b[0m\u001b[37m\u001b[0m \u001b[1m1s\u001b[0m 4ms/step - loss: 673396424704.0000 - mae: 520898.1250 - val_loss: 666899644416.0000 - val_mae: 511748.5625\n",
            "Epoch 5/50\n",
            "\u001b[1m87/87\u001b[0m \u001b[32m━━━━━━━━━━━━━━━━━━━━\u001b[0m\u001b[37m\u001b[0m \u001b[1m0s\u001b[0m 4ms/step - loss: 577853259776.0000 - mae: 505251.2812 - val_loss: 664765661184.0000 - val_mae: 510187.7812\n",
            "Epoch 6/50\n",
            "\u001b[1m87/87\u001b[0m \u001b[32m━━━━━━━━━━━━━━━━━━━━\u001b[0m\u001b[37m\u001b[0m \u001b[1m1s\u001b[0m 4ms/step - loss: 587435606016.0000 - mae: 506905.4375 - val_loss: 661553217536.0000 - val_mae: 507839.3125\n",
            "Epoch 7/50\n",
            "\u001b[1m87/87\u001b[0m \u001b[32m━━━━━━━━━━━━━━━━━━━━\u001b[0m\u001b[37m\u001b[0m \u001b[1m1s\u001b[0m 4ms/step - loss: 544044122112.0000 - mae: 487230.4062 - val_loss: 657203265536.0000 - val_mae: 504632.7188\n",
            "Epoch 8/50\n",
            "\u001b[1m87/87\u001b[0m \u001b[32m━━━━━━━━━━━━━━━━━━━━\u001b[0m\u001b[37m\u001b[0m \u001b[1m0s\u001b[0m 4ms/step - loss: 532380385280.0000 - mae: 484412.2188 - val_loss: 651598168064.0000 - val_mae: 500470.7500\n",
            "Epoch 9/50\n",
            "\u001b[1m87/87\u001b[0m \u001b[32m━━━━━━━━━━━━━━━━━━━━\u001b[0m\u001b[37m\u001b[0m \u001b[1m1s\u001b[0m 4ms/step - loss: 590267416576.0000 - mae: 490881.3750 - val_loss: 644621139968.0000 - val_mae: 495243.3125\n",
            "Epoch 10/50\n",
            "\u001b[1m87/87\u001b[0m \u001b[32m━━━━━━━━━━━━━━━━━━━━\u001b[0m\u001b[37m\u001b[0m \u001b[1m1s\u001b[0m 3ms/step - loss: 499106873344.0000 - mae: 465346.8750 - val_loss: 636448276480.0000 - val_mae: 489001.5312\n",
            "Epoch 11/50\n",
            "\u001b[1m87/87\u001b[0m \u001b[32m━━━━━━━━━━━━━━━━━━━━\u001b[0m\u001b[37m\u001b[0m \u001b[1m1s\u001b[0m 3ms/step - loss: 514723053568.0000 - mae: 462399.2812 - val_loss: 626802753536.0000 - val_mae: 481526.9375\n",
            "Epoch 12/50\n",
            "\u001b[1m87/87\u001b[0m \u001b[32m━━━━━━━━━━━━━━━━━━━━\u001b[0m\u001b[37m\u001b[0m \u001b[1m0s\u001b[0m 3ms/step - loss: 574739644416.0000 - mae: 469920.4062 - val_loss: 616180875264.0000 - val_mae: 473078.7812\n",
            "Epoch 13/50\n",
            "\u001b[1m87/87\u001b[0m \u001b[32m━━━━━━━━━━━━━━━━━━━━\u001b[0m\u001b[37m\u001b[0m \u001b[1m0s\u001b[0m 4ms/step - loss: 480089800704.0000 - mae: 436299.4062 - val_loss: 604537946112.0000 - val_mae: 463575.2500\n",
            "Epoch 14/50\n",
            "\u001b[1m87/87\u001b[0m \u001b[32m━━━━━━━━━━━━━━━━━━━━\u001b[0m\u001b[37m\u001b[0m \u001b[1m0s\u001b[0m 4ms/step - loss: 513152516096.0000 - mae: 443221.8438 - val_loss: 591681880064.0000 - val_mae: 452834.7500\n",
            "Epoch 15/50\n",
            "\u001b[1m87/87\u001b[0m \u001b[32m━━━━━━━━━━━━━━━━━━━━\u001b[0m\u001b[37m\u001b[0m \u001b[1m0s\u001b[0m 4ms/step - loss: 428871254016.0000 - mae: 402820.0938 - val_loss: 578257223680.0000 - val_mae: 441385.7500\n",
            "Epoch 16/50\n",
            "\u001b[1m87/87\u001b[0m \u001b[32m━━━━━━━━━━━━━━━━━━━━\u001b[0m\u001b[37m\u001b[0m \u001b[1m1s\u001b[0m 3ms/step - loss: 436514422784.0000 - mae: 399489.5312 - val_loss: 563991805952.0000 - val_mae: 428832.8750\n",
            "Epoch 17/50\n",
            "\u001b[1m87/87\u001b[0m \u001b[32m━━━━━━━━━━━━━━━━━━━━\u001b[0m\u001b[37m\u001b[0m \u001b[1m0s\u001b[0m 3ms/step - loss: 426412343296.0000 - mae: 381113.3438 - val_loss: 549667078144.0000 - val_mae: 415861.5938\n",
            "Epoch 18/50\n",
            "\u001b[1m87/87\u001b[0m \u001b[32m━━━━━━━━━━━━━━━━━━━━\u001b[0m\u001b[37m\u001b[0m \u001b[1m0s\u001b[0m 3ms/step - loss: 376537088000.0000 - mae: 351052.7812 - val_loss: 534918463488.0000 - val_mae: 402611.6562\n",
            "Epoch 19/50\n",
            "\u001b[1m87/87\u001b[0m \u001b[32m━━━━━━━━━━━━━━━━━━━━\u001b[0m\u001b[37m\u001b[0m \u001b[1m0s\u001b[0m 4ms/step - loss: 408094146560.0000 - mae: 339642.8438 - val_loss: 520613101568.0000 - val_mae: 389874.9375\n",
            "Epoch 20/50\n",
            "\u001b[1m87/87\u001b[0m \u001b[32m━━━━━━━━━━━━━━━━━━━━\u001b[0m\u001b[37m\u001b[0m \u001b[1m0s\u001b[0m 4ms/step - loss: 390894977024.0000 - mae: 333762.2812 - val_loss: 506372587520.0000 - val_mae: 377696.0312\n",
            "Epoch 21/50\n",
            "\u001b[1m87/87\u001b[0m \u001b[32m━━━━━━━━━━━━━━━━━━━━\u001b[0m\u001b[37m\u001b[0m \u001b[1m0s\u001b[0m 3ms/step - loss: 372542603264.0000 - mae: 314004.7188 - val_loss: 492925124608.0000 - val_mae: 366523.5938\n",
            "Epoch 22/50\n",
            "\u001b[1m87/87\u001b[0m \u001b[32m━━━━━━━━━━━━━━━━━━━━\u001b[0m\u001b[37m\u001b[0m \u001b[1m0s\u001b[0m 4ms/step - loss: 297505161216.0000 - mae: 282680.0625 - val_loss: 480218382336.0000 - val_mae: 356645.1250\n",
            "Epoch 23/50\n",
            "\u001b[1m87/87\u001b[0m \u001b[32m━━━━━━━━━━━━━━━━━━━━\u001b[0m\u001b[37m\u001b[0m \u001b[1m1s\u001b[0m 4ms/step - loss: 330507911168.0000 - mae: 283943.7812 - val_loss: 467988021248.0000 - val_mae: 348059.6562\n",
            "Epoch 24/50\n",
            "\u001b[1m87/87\u001b[0m \u001b[32m━━━━━━━━━━━━━━━━━━━━\u001b[0m\u001b[37m\u001b[0m \u001b[1m0s\u001b[0m 3ms/step - loss: 368075997184.0000 - mae: 290060.4062 - val_loss: 456681521152.0000 - val_mae: 340762.8125\n",
            "Epoch 25/50\n",
            "\u001b[1m87/87\u001b[0m \u001b[32m━━━━━━━━━━━━━━━━━━━━\u001b[0m\u001b[37m\u001b[0m \u001b[1m0s\u001b[0m 4ms/step - loss: 256026263552.0000 - mae: 244310.0312 - val_loss: 446266015744.0000 - val_mae: 335270.5000\n",
            "Epoch 26/50\n",
            "\u001b[1m87/87\u001b[0m \u001b[32m━━━━━━━━━━━━━━━━━━━━\u001b[0m\u001b[37m\u001b[0m \u001b[1m0s\u001b[0m 4ms/step - loss: 266007805952.0000 - mae: 243113.0625 - val_loss: 436477362176.0000 - val_mae: 331326.8750\n",
            "Epoch 27/50\n",
            "\u001b[1m87/87\u001b[0m \u001b[32m━━━━━━━━━━━━━━━━━━━━\u001b[0m\u001b[37m\u001b[0m \u001b[1m1s\u001b[0m 6ms/step - loss: 241264902144.0000 - mae: 235726.2344 - val_loss: 428186566656.0000 - val_mae: 328441.8438\n",
            "Epoch 28/50\n",
            "\u001b[1m87/87\u001b[0m \u001b[32m━━━━━━━━━━━━━━━━━━━━\u001b[0m\u001b[37m\u001b[0m \u001b[1m1s\u001b[0m 5ms/step - loss: 254067769344.0000 - mae: 227905.2969 - val_loss: 421094129664.0000 - val_mae: 326472.3750\n",
            "Epoch 29/50\n",
            "\u001b[1m87/87\u001b[0m \u001b[32m━━━━━━━━━━━━━━━━━━━━\u001b[0m\u001b[37m\u001b[0m \u001b[1m1s\u001b[0m 6ms/step - loss: 229167497216.0000 - mae: 228627.7969 - val_loss: 414326063104.0000 - val_mae: 324942.5000\n",
            "Epoch 30/50\n",
            "\u001b[1m87/87\u001b[0m \u001b[32m━━━━━━━━━━━━━━━━━━━━\u001b[0m\u001b[37m\u001b[0m \u001b[1m1s\u001b[0m 6ms/step - loss: 250034503680.0000 - mae: 227944.8750 - val_loss: 408977833984.0000 - val_mae: 323824.5000\n",
            "Epoch 31/50\n",
            "\u001b[1m87/87\u001b[0m \u001b[32m━━━━━━━━━━━━━━━━━━━━\u001b[0m\u001b[37m\u001b[0m \u001b[1m1s\u001b[0m 7ms/step - loss: 202621059072.0000 - mae: 214256.1406 - val_loss: 403731120128.0000 - val_mae: 322865.8750\n",
            "Epoch 32/50\n",
            "\u001b[1m87/87\u001b[0m \u001b[32m━━━━━━━━━━━━━━━━━━━━\u001b[0m\u001b[37m\u001b[0m \u001b[1m0s\u001b[0m 3ms/step - loss: 294844366848.0000 - mae: 241899.0781 - val_loss: 399133245440.0000 - val_mae: 322102.6562\n",
            "Epoch 33/50\n",
            "\u001b[1m87/87\u001b[0m \u001b[32m━━━━━━━━━━━━━━━━━━━━\u001b[0m\u001b[37m\u001b[0m \u001b[1m0s\u001b[0m 4ms/step - loss: 199363067904.0000 - mae: 215048.4219 - val_loss: 395318231040.0000 - val_mae: 321234.9688\n",
            "Epoch 34/50\n",
            "\u001b[1m87/87\u001b[0m \u001b[32m━━━━━━━━━━━━━━━━━━━━\u001b[0m\u001b[37m\u001b[0m \u001b[1m1s\u001b[0m 3ms/step - loss: 186840186880.0000 - mae: 205804.2969 - val_loss: 391699234816.0000 - val_mae: 320628.6875\n",
            "Epoch 35/50\n",
            "\u001b[1m87/87\u001b[0m \u001b[32m━━━━━━━━━━━━━━━━━━━━\u001b[0m\u001b[37m\u001b[0m \u001b[1m1s\u001b[0m 4ms/step - loss: 191376064512.0000 - mae: 211529.4531 - val_loss: 388228120576.0000 - val_mae: 320045.1562\n",
            "Epoch 36/50\n",
            "\u001b[1m87/87\u001b[0m \u001b[32m━━━━━━━━━━━━━━━━━━━━\u001b[0m\u001b[37m\u001b[0m \u001b[1m1s\u001b[0m 4ms/step - loss: 211500679168.0000 - mae: 215775.5781 - val_loss: 385088323584.0000 - val_mae: 319069.8438\n",
            "Epoch 37/50\n",
            "\u001b[1m87/87\u001b[0m \u001b[32m━━━━━━━━━━━━━━━━━━━━\u001b[0m\u001b[37m\u001b[0m \u001b[1m0s\u001b[0m 3ms/step - loss: 209939333120.0000 - mae: 220666.1250 - val_loss: 382048698368.0000 - val_mae: 318078.4375\n",
            "Epoch 38/50\n",
            "\u001b[1m87/87\u001b[0m \u001b[32m━━━━━━━━━━━━━━━━━━━━\u001b[0m\u001b[37m\u001b[0m \u001b[1m0s\u001b[0m 4ms/step - loss: 187770961920.0000 - mae: 205259.3906 - val_loss: 379410415616.0000 - val_mae: 316687.0625\n",
            "Epoch 39/50\n",
            "\u001b[1m87/87\u001b[0m \u001b[32m━━━━━━━━━━━━━━━━━━━━\u001b[0m\u001b[37m\u001b[0m \u001b[1m0s\u001b[0m 4ms/step - loss: 179150700544.0000 - mae: 208310.3750 - val_loss: 376485707776.0000 - val_mae: 315743.5938\n",
            "Epoch 40/50\n",
            "\u001b[1m87/87\u001b[0m \u001b[32m━━━━━━━━━━━━━━━━━━━━\u001b[0m\u001b[37m\u001b[0m \u001b[1m0s\u001b[0m 3ms/step - loss: 224079134720.0000 - mae: 213656.0625 - val_loss: 373919776768.0000 - val_mae: 314363.8438\n",
            "Epoch 41/50\n",
            "\u001b[1m87/87\u001b[0m \u001b[32m━━━━━━━━━━━━━━━━━━━━\u001b[0m\u001b[37m\u001b[0m \u001b[1m1s\u001b[0m 3ms/step - loss: 178044043264.0000 - mae: 205317.4062 - val_loss: 371240697856.0000 - val_mae: 313206.8438\n",
            "Epoch 42/50\n",
            "\u001b[1m87/87\u001b[0m \u001b[32m━━━━━━━━━━━━━━━━━━━━\u001b[0m\u001b[37m\u001b[0m \u001b[1m1s\u001b[0m 4ms/step - loss: 154484113408.0000 - mae: 191035.2031 - val_loss: 368732307456.0000 - val_mae: 311803.7188\n",
            "Epoch 43/50\n",
            "\u001b[1m87/87\u001b[0m \u001b[32m━━━━━━━━━━━━━━━━━━━━\u001b[0m\u001b[37m\u001b[0m \u001b[1m1s\u001b[0m 3ms/step - loss: 158968168448.0000 - mae: 191844.6094 - val_loss: 366195507200.0000 - val_mae: 310426.0312\n",
            "Epoch 44/50\n",
            "\u001b[1m87/87\u001b[0m \u001b[32m━━━━━━━━━━━━━━━━━━━━\u001b[0m\u001b[37m\u001b[0m \u001b[1m0s\u001b[0m 3ms/step - loss: 179726254080.0000 - mae: 195604.3906 - val_loss: 363810947072.0000 - val_mae: 308785.8750\n",
            "Epoch 45/50\n",
            "\u001b[1m87/87\u001b[0m \u001b[32m━━━━━━━━━━━━━━━━━━━━\u001b[0m\u001b[37m\u001b[0m \u001b[1m1s\u001b[0m 5ms/step - loss: 159573950464.0000 - mae: 187120.1562 - val_loss: 361184985088.0000 - val_mae: 307649.9688\n",
            "Epoch 46/50\n",
            "\u001b[1m87/87\u001b[0m \u001b[32m━━━━━━━━━━━━━━━━━━━━\u001b[0m\u001b[37m\u001b[0m \u001b[1m0s\u001b[0m 4ms/step - loss: 193481064448.0000 - mae: 207677.6875 - val_loss: 358859276288.0000 - val_mae: 305825.7812\n",
            "Epoch 47/50\n",
            "\u001b[1m87/87\u001b[0m \u001b[32m━━━━━━━━━━━━━━━━━━━━\u001b[0m\u001b[37m\u001b[0m \u001b[1m1s\u001b[0m 3ms/step - loss: 169945939968.0000 - mae: 193398.7500 - val_loss: 356508598272.0000 - val_mae: 304298.9688\n",
            "Epoch 48/50\n",
            "\u001b[1m87/87\u001b[0m \u001b[32m━━━━━━━━━━━━━━━━━━━━\u001b[0m\u001b[37m\u001b[0m \u001b[1m0s\u001b[0m 4ms/step - loss: 184635834368.0000 - mae: 193913.5938 - val_loss: 354046017536.0000 - val_mae: 303042.5938\n",
            "Epoch 49/50\n",
            "\u001b[1m87/87\u001b[0m \u001b[32m━━━━━━━━━━━━━━━━━━━━\u001b[0m\u001b[37m\u001b[0m \u001b[1m1s\u001b[0m 4ms/step - loss: 155019427840.0000 - mae: 183240.0781 - val_loss: 351753633792.0000 - val_mae: 301409.0938\n",
            "Epoch 50/50\n",
            "\u001b[1m87/87\u001b[0m \u001b[32m━━━━━━━━━━━━━━━━━━━━\u001b[0m\u001b[37m\u001b[0m \u001b[1m0s\u001b[0m 3ms/step - loss: 133411921920.0000 - mae: 173511.8594 - val_loss: 349465509888.0000 - val_mae: 299952.5312\n"
          ]
        }
      ]
    },
    {
      "cell_type": "code",
      "source": [
        "loss, mae = model.evaluate(X_test, y_test, verbose=0)\n",
        "print(f\"Test Mean Absolute Error: {mae}\")"
      ],
      "metadata": {
        "colab": {
          "base_uri": "https://localhost:8080/"
        },
        "id": "3TQ3pq9oUZgH",
        "outputId": "46888441-66ee-4b8c-a059-9962f1b38313"
      },
      "execution_count": null,
      "outputs": [
        {
          "output_type": "stream",
          "name": "stdout",
          "text": [
            "Test Mean Absolute Error: 274594.625\n"
          ]
        }
      ]
    },
    {
      "cell_type": "code",
      "source": [
        "y_pred = model.predict(X_test)"
      ],
      "metadata": {
        "colab": {
          "base_uri": "https://localhost:8080/"
        },
        "id": "Ft0R1CrVUeAO",
        "outputId": "144986f8-74b9-430a-d088-e78717573402"
      },
      "execution_count": null,
      "outputs": [
        {
          "output_type": "stream",
          "name": "stdout",
          "text": [
            "\u001b[1m28/28\u001b[0m \u001b[32m━━━━━━━━━━━━━━━━━━━━\u001b[0m\u001b[37m\u001b[0m \u001b[1m0s\u001b[0m 3ms/step\n"
          ]
        }
      ]
    },
    {
      "cell_type": "code",
      "source": [
        "plt.scatter(y_test, y_pred, alpha=0.5)\n",
        "plt.xlabel(\"Actual Prices\")\n",
        "plt.ylabel(\"Predicted Prices\")\n",
        "plt.title(\"Actual vs Predicted Prices\")\n",
        "plt.show()"
      ],
      "metadata": {
        "colab": {
          "base_uri": "https://localhost:8080/",
          "height": 472
        },
        "id": "eqCSSkeGUq_O",
        "outputId": "ed7b7b02-b3ed-4153-9bd9-1aaa6ec255e1"
      },
      "execution_count": null,
      "outputs": [
        {
          "output_type": "display_data",
          "data": {
            "text/plain": [
              "<Figure size 640x480 with 1 Axes>"
            ],
            "image/png": "[encoded data removed]"
          },
          "metadata": {}
        }
      ]
    },
    {
      "cell_type": "markdown",
      "source": [
        "# **CLASSIFICATION**"
      ],
      "metadata": {
        "id": "-TZKag65Rsh-"
      }
    },
    {
      "cell_type": "code",
      "source": [
        "import pandas as pd\n",
        "import numpy as np\n",
        "from sklearn.model_selection import train_test_split\n",
        "from sklearn.preprocessing import StandardScaler, LabelEncoder\n",
        "from tensorflow.keras.models import Sequential\n",
        "from tensorflow.keras.layers import Dense\n",
        "import matplotlib.pyplot as plt\n",
        "from tensorflow.keras.utils import to_categorical"
      ],
      "metadata": {
        "id": "4Dgz_yMfR642"
      },
      "execution_count": null,
      "outputs": []
    },
    {
      "cell_type": "code",
      "source": [
        "# Define target as 'fuel' and apply Label Encoding\n",
        "target_column = 'fuel'\n",
        "label_encoder = LabelEncoder()\n",
        "df[target_column] = label_encoder.fit_transform(df[target_column])"
      ],
      "metadata": {
        "id": "UyM9X8O1YabV"
      },
      "execution_count": null,
      "outputs": []
    },
    {
      "cell_type": "code",
      "source": [
        "# Prepare features and target\n",
        "features = df.drop(columns=[target_column])\n",
        "features = pd.get_dummies(features)  # Convert categorical features\n",
        "target = to_categorical(df[target_column])  # One-hot encode target"
      ],
      "metadata": {
        "id": "Sma-oMhSYnX8"
      },
      "execution_count": null,
      "outputs": []
    },
    {
      "cell_type": "code",
      "source": [
        "X_train, X_test, y_train, y_test = train_test_split(features, target, test_size=0.2, random_state=42)"
      ],
      "metadata": {
        "id": "lQUFdw1zYqvb"
      },
      "execution_count": null,
      "outputs": []
    },
    {
      "cell_type": "code",
      "source": [
        "# Scale numerical features\n",
        "scaler = StandardScaler()\n",
        "X_train = scaler.fit_transform(X_train)\n",
        "X_test = scaler.transform(X_test)"
      ],
      "metadata": {
        "id": "WJWCmPJgYwBr"
      },
      "execution_count": null,
      "outputs": []
    },
    {
      "cell_type": "code",
      "source": [
        "# Build ANN model\n",
        "model = Sequential([\n",
        "    Dense(64, activation='relu', input_shape=(X_train.shape[1],)),\n",
        "    Dense(32, activation='relu'),\n",
        "    Dense(target.shape[1], activation='softmax')  # Multi-class classification\n",
        "])"
      ],
      "metadata": {
        "colab": {
          "base_uri": "https://localhost:8080/"
        },
        "id": "rnkvvoRiY2NT",
        "outputId": "184171b3-cbcc-4416-cebb-f83969c76111"
      },
      "execution_count": null,
      "outputs": [
        {
          "output_type": "stream",
          "name": "stderr",
          "text": [
            "/usr/local/lib/python3.11/dist-packages/keras/src/layers/core/dense.py:87: UserWarning: Do not pass an `input_shape`/`input_dim` argument to a layer. When using Sequential models, prefer using an `Input(shape)` object as the first layer in the model instead.\n",
            "  super().__init__(activity_regularizer=activity_regularizer, **kwargs)\n"
          ]
        }
      ]
    },
    {
      "cell_type": "code",
      "source": [
        "# Compile model\n",
        "model.compile(optimizer='adam', loss='categorical_crossentropy', metrics=['accuracy'])"
      ],
      "metadata": {
        "id": "-5mBAAWUY6hb"
      },
      "execution_count": null,
      "outputs": []
    },
    {
      "cell_type": "code",
      "source": [
        "history = model.fit(X_train, y_train, validation_data=(X_test, y_test), epochs=20, batch_size=32)\n"
      ],
      "metadata": {
        "colab": {
          "base_uri": "https://localhost:8080/"
        },
        "id": "2xq93KoYZAM7",
        "outputId": "9dd5ba36-3873-4386-aa44-4fadaebd3c4f"
      },
      "execution_count": null,
      "outputs": [
        {
          "output_type": "stream",
          "name": "stdout",
          "text": [
            "Epoch 1/20\n",
            "\u001b[1m109/109\u001b[0m \u001b[32m━━━━━━━━━━━━━━━━━━━━\u001b[0m\u001b[37m\u001b[0m \u001b[1m5s\u001b[0m 11ms/step - accuracy: 0.6226 - loss: 0.9100 - val_accuracy: 0.8963 - val_loss: 0.3231\n",
            "Epoch 2/20\n",
            "\u001b[1m109/109\u001b[0m \u001b[32m━━━━━━━━━━━━━━━━━━━━\u001b[0m\u001b[37m\u001b[0m \u001b[1m0s\u001b[0m 4ms/step - accuracy: 0.9645 - loss: 0.1707 - val_accuracy: 0.9147 - val_loss: 0.2017\n",
            "Epoch 3/20\n",
            "\u001b[1m109/109\u001b[0m \u001b[32m━━━━━━━━━━━━━━━━━━━━\u001b[0m\u001b[37m\u001b[0m \u001b[1m1s\u001b[0m 5ms/step - accuracy: 0.9909 - loss: 0.0441 - val_accuracy: 0.9182 - val_loss: 0.1940\n",
            "Epoch 4/20\n",
            "\u001b[1m109/109\u001b[0m \u001b[32m━━━━━━━━━━━━━━━━━━━━\u001b[0m\u001b[37m\u001b[0m \u001b[1m1s\u001b[0m 4ms/step - accuracy: 0.9985 - loss: 0.0141 - val_accuracy: 0.9171 - val_loss: 0.1924\n",
            "Epoch 5/20\n",
            "\u001b[1m109/109\u001b[0m \u001b[32m━━━━━━━━━━━━━━━━━━━━\u001b[0m\u001b[37m\u001b[0m \u001b[1m1s\u001b[0m 5ms/step - accuracy: 0.9993 - loss: 0.0061 - val_accuracy: 0.9205 - val_loss: 0.1985\n",
            "Epoch 6/20\n",
            "\u001b[1m109/109\u001b[0m \u001b[32m━━━━━━━━━━━━━━━━━━━━\u001b[0m\u001b[37m\u001b[0m \u001b[1m1s\u001b[0m 7ms/step - accuracy: 0.9997 - loss: 0.0048 - val_accuracy: 0.9194 - val_loss: 0.2030\n",
            "Epoch 7/20\n",
            "\u001b[1m109/109\u001b[0m \u001b[32m━━━━━━━━━━━━━━━━━━━━\u001b[0m\u001b[37m\u001b[0m \u001b[1m1s\u001b[0m 8ms/step - accuracy: 1.0000 - loss: 0.0025 - val_accuracy: 0.9171 - val_loss: 0.2025\n",
            "Epoch 8/20\n",
            "\u001b[1m109/109\u001b[0m \u001b[32m━━━━━━━━━━━━━━━━━━━━\u001b[0m\u001b[37m\u001b[0m \u001b[1m1s\u001b[0m 6ms/step - accuracy: 1.0000 - loss: 0.0025 - val_accuracy: 0.9182 - val_loss: 0.2068\n",
            "Epoch 9/20\n",
            "\u001b[1m109/109\u001b[0m \u001b[32m━━━━━━━━━━━━━━━━━━━━\u001b[0m\u001b[37m\u001b[0m \u001b[1m1s\u001b[0m 4ms/step - accuracy: 1.0000 - loss: 0.0014 - val_accuracy: 0.9205 - val_loss: 0.2075\n",
            "Epoch 10/20\n",
            "\u001b[1m109/109\u001b[0m \u001b[32m━━━━━━━━━━━━━━━━━━━━\u001b[0m\u001b[37m\u001b[0m \u001b[1m1s\u001b[0m 4ms/step - accuracy: 1.0000 - loss: 0.0011 - val_accuracy: 0.9194 - val_loss: 0.2088\n",
            "Epoch 11/20\n",
            "\u001b[1m109/109\u001b[0m \u001b[32m━━━━━━━━━━━━━━━━━━━━\u001b[0m\u001b[37m\u001b[0m \u001b[1m1s\u001b[0m 4ms/step - accuracy: 1.0000 - loss: 7.3861e-04 - val_accuracy: 0.9217 - val_loss: 0.2107\n",
            "Epoch 12/20\n",
            "\u001b[1m109/109\u001b[0m \u001b[32m━━━━━━━━━━━━━━━━━━━━\u001b[0m\u001b[37m\u001b[0m \u001b[1m0s\u001b[0m 4ms/step - accuracy: 1.0000 - loss: 7.6766e-04 - val_accuracy: 0.9217 - val_loss: 0.2120\n",
            "Epoch 13/20\n",
            "\u001b[1m109/109\u001b[0m \u001b[32m━━━━━━━━━━━━━━━━━━━━\u001b[0m\u001b[37m\u001b[0m \u001b[1m0s\u001b[0m 4ms/step - accuracy: 1.0000 - loss: 7.2758e-04 - val_accuracy: 0.9205 - val_loss: 0.2129\n",
            "Epoch 14/20\n",
            "\u001b[1m109/109\u001b[0m \u001b[32m━━━━━━━━━━━━━━━━━━━━\u001b[0m\u001b[37m\u001b[0m \u001b[1m1s\u001b[0m 4ms/step - accuracy: 1.0000 - loss: 4.1421e-04 - val_accuracy: 0.9205 - val_loss: 0.2140\n",
            "Epoch 15/20\n",
            "\u001b[1m109/109\u001b[0m \u001b[32m━━━━━━━━━━━━━━━━━━━━\u001b[0m\u001b[37m\u001b[0m \u001b[1m1s\u001b[0m 4ms/step - accuracy: 1.0000 - loss: 3.6774e-04 - val_accuracy: 0.9194 - val_loss: 0.2157\n",
            "Epoch 16/20\n",
            "\u001b[1m109/109\u001b[0m \u001b[32m━━━━━━━━━━━━━━━━━━━━\u001b[0m\u001b[37m\u001b[0m \u001b[1m1s\u001b[0m 4ms/step - accuracy: 1.0000 - loss: 3.0231e-04 - val_accuracy: 0.9194 - val_loss: 0.2167\n",
            "Epoch 17/20\n",
            "\u001b[1m109/109\u001b[0m \u001b[32m━━━━━━━━━━━━━━━━━━━━\u001b[0m\u001b[37m\u001b[0m \u001b[1m1s\u001b[0m 4ms/step - accuracy: 1.0000 - loss: 2.8037e-04 - val_accuracy: 0.9194 - val_loss: 0.2177\n",
            "Epoch 18/20\n",
            "\u001b[1m109/109\u001b[0m \u001b[32m━━━━━━━━━━━━━━━━━━━━\u001b[0m\u001b[37m\u001b[0m \u001b[1m1s\u001b[0m 5ms/step - accuracy: 1.0000 - loss: 2.0065e-04 - val_accuracy: 0.9205 - val_loss: 0.2190\n",
            "Epoch 19/20\n",
            "\u001b[1m109/109\u001b[0m \u001b[32m━━━━━━━━━━━━━━━━━━━━\u001b[0m\u001b[37m\u001b[0m \u001b[1m1s\u001b[0m 4ms/step - accuracy: 1.0000 - loss: 1.8290e-04 - val_accuracy: 0.9205 - val_loss: 0.2201\n",
            "Epoch 20/20\n",
            "\u001b[1m109/109\u001b[0m \u001b[32m━━━━━━━━━━━━━━━━━━━━\u001b[0m\u001b[37m\u001b[0m \u001b[1m1s\u001b[0m 4ms/step - accuracy: 1.0000 - loss: 1.5263e-04 - val_accuracy: 0.9205 - val_loss: 0.2212\n"
          ]
        }
      ]
    },
    {
      "cell_type": "code",
      "source": [
        "loss, accuracy = model.evaluate(X_test, y_test)\n",
        "print(f\"Test Accuracy: {accuracy:.2f}\")"
      ],
      "metadata": {
        "colab": {
          "base_uri": "https://localhost:8080/"
        },
        "id": "H2jdOUUsZwaL",
        "outputId": "12ac1c28-d5e5-4ce9-fddb-31ec9bff6e47"
      },
      "execution_count": null,
      "outputs": [
        {
          "output_type": "stream",
          "name": "stdout",
          "text": [
            "\u001b[1m28/28\u001b[0m \u001b[32m━━━━━━━━━━━━━━━━━━━━\u001b[0m\u001b[37m\u001b[0m \u001b[1m0s\u001b[0m 4ms/step - accuracy: 0.9133 - loss: 0.2427\n",
            "Test Accuracy: 0.92\n"
          ]
        }
      ]
    },
    {
      "cell_type": "code",
      "source": [
        "# Plot training history\n",
        "plt.plot(history.history['accuracy'], label='Train Accuracy')\n",
        "plt.plot(history.history['val_accuracy'], label='Validation Accuracy')\n",
        "plt.xlabel('Epochs')\n",
        "plt.ylabel('Accuracy')\n",
        "plt.legend()\n",
        "plt.title('Model Accuracy Over Epochs')\n",
        "plt.show()"
      ],
      "metadata": {
        "id": "K9jd7CSza_D6",
        "outputId": "66d04705-1477-4399-f4e2-41cc69089dfb",
        "colab": {
          "base_uri": "https://localhost:8080/",
          "height": 472
        }
      },
      "execution_count": null,
      "outputs": [
        {
          "output_type": "display_data",
          "data": {
            "text/plain": [
              "<Figure size 640x480 with 1 Axes>"
            ],
            "image/png": "[encoded data removed]"
          },
          "metadata": {}
        }
      ]
    }
  ]
}