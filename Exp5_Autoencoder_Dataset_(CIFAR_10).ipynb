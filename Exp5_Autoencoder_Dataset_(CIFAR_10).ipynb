{
  "nbformat": 4,
  "nbformat_minor": 0,
  "metadata": {
    "colab": {
      "provenance": []
    },
    "kernelspec": {
      "name": "python3",
      "display_name": "Python 3"
    },
    "language_info": {
      "name": "python"
    }
  },
  "cells": [
    {
      "cell_type": "code",
      "execution_count": null,
      "metadata": {
        "id": "r_BpoafwyeYA"
      },
      "outputs": [],
      "source": [
        "import tensorflow as tf\n",
        "from tensorflow import keras\n",
        "from tensorflow.keras.layers import Input, Dense, Flatten, Reshape\n",
        "from tensorflow.keras.models import Model\n",
        "import numpy as np\n",
        "import matplotlib.pyplot as plt\n",
        "from tensorflow.keras.datasets import cifar10"
      ]
    },
    {
      "cell_type": "code",
      "source": [
        "# Load CIFAR-10 dataset\n",
        "(x_train, _), (x_test, _) = cifar10.load_data()\n",
        "x_train = x_train.astype('float32') / 255.0\n",
        "x_test = x_test.astype('float32') / 255.0"
      ],
      "metadata": {
        "id": "ueleTacayuTG"
      },
      "execution_count": null,
      "outputs": []
    },
    {
      "cell_type": "code",
      "source": [
        "# Flatten the 32x32x3 images into 3072-dim vectors\n",
        "x_train = x_train.reshape((len(x_train), -1))\n",
        "x_test = x_test.reshape((len(x_test), -1))"
      ],
      "metadata": {
        "id": "he11CHdwyv67"
      },
      "execution_count": null,
      "outputs": []
    },
    {
      "cell_type": "code",
      "source": [
        "# Define encoding dimension\n",
        "encoding_dim = 128"
      ],
      "metadata": {
        "id": "nvmsLZYKyxkm"
      },
      "execution_count": null,
      "outputs": []
    },
    {
      "cell_type": "code",
      "source": [
        "# Build encoder\n",
        "input_img = Input(shape=(3072,))\n",
        "encoded = Dense(encoding_dim, activation='relu')(input_img)"
      ],
      "metadata": {
        "id": "ZuqylN2WyzG2"
      },
      "execution_count": null,
      "outputs": []
    },
    {
      "cell_type": "code",
      "source": [
        "# Build decoder\n",
        "decoded = Dense(3072, activation='sigmoid')(encoded)"
      ],
      "metadata": {
        "id": "XJJV5CZ6y1Tg"
      },
      "execution_count": null,
      "outputs": []
    },
    {
      "cell_type": "code",
      "source": [
        "# Autoencoder model\n",
        "autoencoder = Model(input_img, decoded)"
      ],
      "metadata": {
        "id": "9Y6fFtniy3mw"
      },
      "execution_count": null,
      "outputs": []
    },
    {
      "cell_type": "code",
      "source": [
        "# Compile the model\n",
        "autoencoder.compile(optimizer='adam', loss='binary_crossentropy', metrics=['accuracy'])"
      ],
      "metadata": {
        "id": "KwJRpUjGy58i"
      },
      "execution_count": null,
      "outputs": []
    },
    {
      "cell_type": "code",
      "source": [
        "# Train the model\n",
        "history = autoencoder.fit(x_train, x_train,\n",
        "                          epochs=20,\n",
        "                          batch_size=256,\n",
        "                          shuffle=True,\n",
        "                          validation_data=(x_test, x_test))"
      ],
      "metadata": {
        "id": "9Qh-eyTMy74P"
      },
      "execution_count": null,
      "outputs": []
    },
    {
      "cell_type": "code",
      "source": [
        "# Extract the encoder model\n",
        "encoder = Model(input_img, encoded)\n",
        "\n",
        "# Encode test images\n",
        "encoded_imgs = encoder.predict(x_test)\n",
        "\n",
        "# Decode test images\n",
        "decoded_imgs = autoencoder.predict(x_test)"
      ],
      "metadata": {
        "id": "Se9y40RWy-7a"
      },
      "execution_count": null,
      "outputs": []
    },
    {
      "cell_type": "code",
      "source": [
        "n = 10  # Number of images to display\n",
        "plt.figure(figsize=(20, 4))\n",
        "for i in range(n):\n",
        "    # Original\n",
        "    ax = plt.subplot(2, n, i + 1)\n",
        "    plt.imshow(x_test[i].reshape(32, 32, 3))\n",
        "    plt.axis('off')\n",
        "\n",
        "    # Reconstructed\n",
        "    ax = plt.subplot(2, n, i + 1 + n)\n",
        "    plt.imshow(decoded_imgs[i].reshape(32, 32, 3))\n",
        "    plt.axis('off')\n",
        "plt.show()"
      ],
      "metadata": {
        "id": "TfIbXgp_zA-f"
      },
      "execution_count": null,
      "outputs": []
    },
    {
      "cell_type": "code",
      "source": [
        "plt.figure(figsize=(8, 5))\n",
        "plt.plot(history.history['loss'], label='Train Loss', color='blue')\n",
        "plt.plot(history.history['val_loss'], label='Validation Loss', color='red')\n",
        "plt.xlabel('Epochs')\n",
        "plt.ylabel('Loss')\n",
        "plt.legend()\n",
        "plt.title('Loss Curve')\n",
        "plt.show()"
      ],
      "metadata": {
        "id": "z8wKlyV1zDDw"
      },
      "execution_count": null,
      "outputs": []
    },
    {
      "cell_type": "code",
      "source": [
        "# Handle potential metric name issues\n",
        "train_acc_key = 'accuracy' if 'accuracy' in history.history else 'binary_accuracy'\n",
        "val_acc_key = 'val_accuracy' if 'val_accuracy' in history.history else 'val_binary_accuracy'\n",
        "\n",
        "plt.figure(figsize=(8, 5))\n",
        "plt.plot(history.history[train_acc_key], label='Train Accuracy', color='blue')\n",
        "plt.plot(history.history[val_acc_key], label='Validation Accuracy', color='red')\n",
        "plt.xlabel('Epochs')\n",
        "plt.ylabel('Accuracy')\n",
        "plt.legend()\n",
        "plt.title('Accuracy Curve')\n",
        "plt.show()"
      ],
      "metadata": {
        "id": "DzYLDOChzE_5"
      },
      "execution_count": null,
      "outputs": []
    },
    {
      "cell_type": "code",
      "source": [],
      "metadata": {
        "id": "Xs88ZhOlzHPc"
      },
      "execution_count": null,
      "outputs": []
    }
  ]
}